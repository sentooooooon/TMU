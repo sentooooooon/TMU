{
 "cells": [
  {
   "cell_type": "code",
   "execution_count": 1,
   "metadata": {},
   "outputs": [
    {
     "ename": "ValueError",
     "evalue": "could not convert string to float: ''",
     "output_type": "error",
     "traceback": [
      "\u001b[1;31m---------------------------------------------------------------------------\u001b[0m",
      "\u001b[1;31mValueError\u001b[0m                                Traceback (most recent call last)",
      "Cell \u001b[1;32mIn [1], line 10\u001b[0m\n\u001b[0;32m      1\u001b[0m \u001b[39m#練習課題 2\u001b[39;00m\n\u001b[0;32m      2\u001b[0m \n\u001b[0;32m      3\u001b[0m \u001b[39m#二分法を用いて，数の立方根の近似値を探すプログラムを作成してください\u001b[39;00m\n\u001b[1;32m   (...)\u001b[0m\n\u001b[0;32m      7\u001b[0m \n\u001b[0;32m      8\u001b[0m \u001b[39m# 練習課題１と比較して，二分法の計算効率について考察してください\u001b[39;00m\n\u001b[1;32m---> 10\u001b[0m v\u001b[39m=\u001b[39m\u001b[39mfloat\u001b[39;49m(\u001b[39minput\u001b[39;49m(\u001b[39m'\u001b[39;49m\u001b[39mv:　\u001b[39;49m\u001b[39m'\u001b[39;49m))\n\u001b[0;32m     11\u001b[0m gosa \u001b[39m=\u001b[39m \u001b[39mfloat\u001b[39m(\u001b[39minput\u001b[39m(\u001b[39m'\u001b[39m\u001b[39mgosa:　\u001b[39m\u001b[39m'\u001b[39m))\n\u001b[0;32m     12\u001b[0m vp \u001b[39m=\u001b[39m v\n",
      "\u001b[1;31mValueError\u001b[0m: could not convert string to float: ''"
     ]
    }
   ],
   "source": [
    "#練習課題 2\n",
    "\n",
    "#二分法を用いて，数の立方根の近似値を探すプログラムを作成してください\n",
    "\n",
    "# gosa = 0.01, v = -27，27と28で入力し，計算が正しいかどうか確認\n",
    "# gosa = 0.01, v = 27と28で入力して，探す回数と結果を確認\n",
    "\n",
    "# 練習課題１と比較して，二分法の計算効率について考察してください\n",
    "\n",
    "v=float(input('v:　'))\n",
    "gosa = float(input('gosa:　'))\n",
    "vp = v\n",
    "if v < 0:\n",
    "    vp = -v #まずブラス方向として解を探す\n",
    "x1 = 0.0\n",
    "x2 = vp\n",
    "xm = (x1 + x2) / 2.0\n",
    "\n",
    "kaisu = 0\n",
    "\n",
    "fxm = xm**3 - vp\n",
    "\n",
    "while abs(fxm) >= gosa:\n",
    "    if fxm>0:\n",
    "        x2 = xm\n",
    "    else:\n",
    "        x1= xm\n",
    "        \n",
    "print(xm)\n",
    "\n",
    "    \n",
    "\n",
    "\n",
    "#考察\n",
    "#より少ないコードでできた"
   ]
  },
  {
   "cell_type": "code",
   "execution_count": null,
   "metadata": {},
   "outputs": [],
   "source": [
    "#練習課題 3\n",
    "\n",
    "#ニュートン法を用いて，数の立方根の近似値を探すプログラムを作成してください\n",
    "\n",
    "# gosa = 0.01, v = -27，27と28で入力し，計算が正しいかどうか確認\n",
    "# gosa = 0.01, v = 27と28で入力して，探す回数と結果を確認\n",
    "\n",
    "# 練習課題2と比較して，二分法の計算効率について考察してください\n",
    "\n",
    "v=float(input('v:　'))\n",
    "gosa = float(input('gosa:　'))\n",
    "\n",
    "x0 = v\n",
    "x1 = x0 - (x0**3 - v) / (3 * x0**2)\n",
    "\n",
    "kaisu = 0\n",
    "\n",
    "while abs(x1**3-v) >= gosa:\n",
    "    x0 = x1\n",
    "    x1 = x0 - (x0**3 - v) / (3 * x0**2)\n",
    "    \n",
    "print(x1)\n",
    "print(\"kaisu\",kaisu)\n",
    "\n",
    "#考察\n",
    "#"
   ]
  },
  {
   "cell_type": "code",
   "execution_count": 5,
   "metadata": {},
   "outputs": [
    {
     "name": "stdout",
     "output_type": "stream",
     "text": [
      "2\n",
      "3\n",
      "5\n",
      "7\n",
      "11\n",
      "13\n",
      "17\n",
      "19\n",
      "23\n",
      "29\n",
      "31\n",
      "37\n",
      "41\n",
      "43\n",
      "47\n",
      "53\n",
      "59\n",
      "61\n",
      "67\n",
      "71\n",
      "73\n",
      "79\n",
      "83\n",
      "89\n",
      "97\n"
     ]
    }
   ],
   "source": [
    "\"課題 1\"\n",
    "\n",
    "#入力した値 n まですべての素数を出力してください\n",
    "# n = 9, 素数 = 2, 3, 5, 7\n",
    "# n = 19, 素数 = 2, 3, 5, 7, 11, 13, 17, 19\n",
    "\n",
    "\n",
    "\n",
    "# hint: i を 2 から n まで，j を 2から i-1 まで，段々上げて，iをあるｊの値で割る可能なら素数ではない．\n",
    "\n",
    "n = int(input(\"n:\"))\n",
    "\n",
    "for i in range(2,n):\n",
    "    for j in range(2,i):\n",
    "        if i%j==0:\n",
    "            break\n",
    "    else:\n",
    "        print(i)\n",
    "\n",
    "#elseの位置で最初戸惑った。forのループを抜けた以外のものが素数になると考えたらすんなりできた。"
   ]
  },
  {
   "cell_type": "code",
   "execution_count": 4,
   "metadata": {},
   "outputs": [
    {
     "name": "stdout",
     "output_type": "stream",
     "text": [
      "解は一つ\n",
      "x=-1.0\n"
     ]
    }
   ],
   "source": [
    "\"課題 2\"\n",
    "\n",
    "#ニュートン法を用いて，x**2 + ax + b = 0 の方程式を解くプログラムを作成してください\n",
    "# a, b, gosaはfloat型として入力\n",
    "\n",
    "# hint:\n",
    "# 二次関数: f(x) = x**2 + ax + b\n",
    "# 頂点: f'(xs) = 0, xs = -a/2\n",
    "# f(xs)によって解が存在するか，一個か，二個か判断\n",
    "# 解が一個なら，頂点がⅹ軸と接触し，頂点 xs が解となる　\n",
    "# 解が二個なら，頂点が x軸の下となり，x0の初期値＝ xs + gosa として頂点の右側にある解，そしてx0の初期値＝ xs - gosaとして頂点の左側にある解を探す\n",
    "\n",
    "# gosa = 0.1, (a = 2, b = 3), (a=2, b= 1), (a=2, b= -3)で入力し，答えが正しいかどうを確認してみてください．\n",
    "\n",
    "a = float(input(\"a;\"))\n",
    "b = float(input('b;'))\n",
    "gosa = float(input('gosa;'))\n",
    "xs = -a/2\n",
    "\n",
    "if b == a**2/4:\n",
    "    print('解は一つ')\n",
    "    print(f'x={xs}')\n",
    "elif b > a**2/4:\n",
    "    print('解は存在しない')\n",
    "else:\n",
    "    print(\"解は二つ\")\n",
    "    x0 = xs - gosa\n",
    "    while abs(x1**2 + a*x1 + b) >= gosa:\n",
    "        x0 = x1\n",
    "        x1 = x0 - (x0**2 + a*x0 + b )/(x0*2+a)\n",
    "\n",
    "    print(f'解＝{x1}')\n",
    "    x0 = xs + gosa\n",
    "    while abs(x2**2 + a*x2 +b) >= gosa:\n",
    "        x0 = x2\n",
    "        x2 = x0 - (x0**2 + a*x2 + b)\n",
    "\n",
    "    print(f'解は[x2]')"
   ]
  }
 ],
 "metadata": {
  "kernelspec": {
   "display_name": "Python 3.10.3 64-bit",
   "language": "python",
   "name": "python3"
  },
  "language_info": {
   "codemirror_mode": {
    "name": "ipython",
    "version": 3
   },
   "file_extension": ".py",
   "mimetype": "text/x-python",
   "name": "python",
   "nbconvert_exporter": "python",
   "pygments_lexer": "ipython3",
   "version": "3.10.3 (tags/v3.10.3:a342a49, Mar 16 2022, 13:07:40) [MSC v.1929 64 bit (AMD64)]"
  },
  "orig_nbformat": 4,
  "vscode": {
   "interpreter": {
    "hash": "22ffae252b668d926353516783295524e43abf5e0fe319c07f264f844d99fbf2"
   }
  }
 },
 "nbformat": 4,
 "nbformat_minor": 2
}
