{
 "cells": [
  {
   "cell_type": "code",
   "execution_count": 1,
   "metadata": {},
   "outputs": [
    {
     "name": "stdout",
     "output_type": "stream",
     "text": [
      "55\n"
     ]
    }
   ],
   "source": [
    "\"\"\" 練習課題1: 再帰関数\"\"\"\n",
    "#F(n) = 1 + 2 + 3 + ... + n\n",
    "#関数F(n)を実行し、計算結果を確認してください\n",
    "def F(n):\n",
    "    if n == 1:\n",
    "        return 1\n",
    "    #print(n)\n",
    "    return F(n-1) + n\n",
    "    #print(n) returnの下なので実行しない\n",
    "\n",
    "print(F(10))\n"
   ]
  },
  {
   "cell_type": "code",
   "execution_count": null,
   "metadata": {},
   "outputs": [
    {
     "name": "stdout",
     "output_type": "stream",
     "text": [
      "6\n",
      "<class 'int'>\n"
     ]
    }
   ],
   "source": [
    "\"\"\"　練習課題2: オブジェクトとしての関数1　\"\"\"\n",
    "\n",
    "x = len('python')\n",
    "\n",
    "# x, xの型を確認せよ; 変数の型はtype(x)\n",
    "print(x)\n",
    "print(type(x))\n",
    "x = len\n",
    "\n",
    "# x, xの型を確認せよ\n",
    "\n",
    "\n",
    "# x('python')の結果がどうなるか確認せよ\n",
    "\n"
   ]
  },
  {
   "cell_type": "code",
   "execution_count": 11,
   "metadata": {},
   "outputs": [
    {
     "name": "stdout",
     "output_type": "stream",
     "text": [
      "3.0\n",
      "4.5\n",
      "<class 'float'>\n",
      "-----------\n",
      "3\n",
      "4\n",
      "<class 'int'>\n",
      "-------------\n",
      "3.0\n",
      "None\n",
      "4.5\n",
      "None\n",
      "4.5\n",
      "<class 'NoneType'>\n"
     ]
    }
   ],
   "source": [
    "\"\"\"　練習課題3: オブジェクトとしての関数2　\"\"\"\n",
    "def half1(n):\n",
    "    m = n/2;\n",
    "    return m\n",
    "\n",
    "def half2(n):\n",
    "    m = n/2;\n",
    "    return int(m)\n",
    "\n",
    "def half3(n):\n",
    "    m = n/2;\n",
    "    print(m)\n",
    "\n",
    "# half1に奇数と偶数を入れた結果をそれぞれ確認し、また出力結果の型についても調べよ\n",
    "print(half1(6))\n",
    "print(half1(9))\n",
    "print(type(half1(9)))\n",
    "\n",
    "print(\"-----------\")\n",
    "# half2に上と同じ数値を使って結果と型を調べよ\n",
    "print(half2(6))\n",
    "print(half2(9))\n",
    "print(type(half2(9)))\n",
    "print(\"-------------\")\n",
    "# half3に上と同じ数値を使って結果と型を調べよ\n",
    "print(half3(6))\n",
    "print(half3(9))\n",
    "print(type(half3(9)))"
   ]
  },
  {
   "cell_type": "code",
   "execution_count": 12,
   "metadata": {},
   "outputs": [
    {
     "name": "stdout",
     "output_type": "stream",
     "text": [
      "3.9.12 (main, Apr  5 2022, 01:53:17) \n",
      "[Clang 12.0.0 ]\n"
     ]
    }
   ],
   "source": [
    "\"\"\" 練習課題4: pythonのバージョン確認 \"\"\"\n",
    "# インポート\n",
    "import sys\n",
    "\n",
    "# バージョン確認\n",
    "print(sys.version)\n"
   ]
  },
  {
   "cell_type": "code",
   "execution_count": 24,
   "metadata": {},
   "outputs": [
    {
     "name": "stdout",
     "output_type": "stream",
     "text": [
      "3\n",
      "100000\n",
      "100000\n",
      "11\n",
      "Big\n"
     ]
    }
   ],
   "source": [
    "\"\"\" 練習課題5: importとfrom \"\"\"\n",
    "\n",
    "# practice6th.pyを同じディレクトリにおいてimportでtestモジュールの中のkansu1を呼び出してみる(fromは使わない)\n",
    "\n",
    "import practice6th\n",
    "\n",
    "print(practice6th.kansu1(1,2))\n",
    "print(practice6th.variable)\n",
    "# practice6thがないと...？\n",
    "#print(variable)\n",
    "\n",
    "\n",
    "# fromを使って変数や関数を呼び出してみる\n",
    "\n",
    "from practice6th import kansu1, kansu2, variable\n",
    "\n",
    "# 変数や関数名だけで呼べるか確認\n",
    "print(variable)\n",
    "print(kansu1(2,9))\n",
    "print(kansu2(1000000))\n"
   ]
  },
  {
   "cell_type": "code",
   "execution_count": null,
   "metadata": {},
   "outputs": [],
   "source": [
    "\"\"\"課題1: 再帰関数\"\"\"\n",
    "#再帰関数で，1*2+2*3+⋯+n*(n+1) を計算するプログラムを作成せよ．\n",
    "\n",
    "def f(n):\n",
    "    if n == 1:\n",
    "        return 1*2\n",
    "    return f(n-1) + n*(n+1)\n",
    "\n",
    "\n",
    "print(f(4))"
   ]
  },
  {
   "cell_type": "code",
   "execution_count": 18,
   "metadata": {},
   "outputs": [
    {
     "name": "stdout",
     "output_type": "stream",
     "text": [
      "not 0\n"
     ]
    }
   ],
   "source": [
    "\"\"\" 課題2: オブジェクトとしての関数 \"\"\"\n",
    "\n",
    "def mod_judge(a,b):\n",
    "    c = a + b\n",
    "    d = a - b\n",
    "    return c % d\n",
    "\n",
    "x = 7\n",
    "y = 3\n",
    "\n",
    "# xとyに値を入れたときにmod_judgeの結果が0かそうでないかを判断するif文をかけ\n",
    "if (mod_judge(x,y)) == 0:\n",
    "    print(\"0\")\n",
    "else:\n",
    "    print(\"not 0\")\n",
    "\n"
   ]
  },
  {
   "cell_type": "code",
   "execution_count": 1,
   "metadata": {
    "scrolled": true
   },
   "outputs": [
    {
     "name": "stdout",
     "output_type": "stream",
     "text": [
      "99999.0の桁数は5桁です。\n",
      "1.7320508075688772 1.0000000000000002\n",
      "1.7320508075688767\n"
     ]
    }
   ],
   "source": [
    "\"\"\" 課題3: 標準ライブラリを使った計算 \"\"\"\n",
    "import math\n",
    "\n",
    "# 1つ目\n",
    "N = float(input())\n",
    "log10N = math.log10(N)\n",
    "n = math.ceil(log10N)\n",
    "print(f\"{N}の桁数は{n}桁です。\")\n",
    "# [説明]任意の値の桁数を判定するプログラムを作った。\n",
    "# [結果の予想]桁数が出る。\n",
    "\n",
    "\n",
    "#2つ目\n",
    "d = float(input(\"斜辺の長さを入力\"))\n",
    "degree = float(input(\"角度を度数で入力\"))\n",
    "dg = math.radians(degree)\n",
    "x = d*math.sin(dg)\n",
    "y = d*math.cos(dg)\n",
    "print(x,y)\n",
    "#[説明]直角三角形の斜辺と角度から、他の二辺の長さを求める。度数は一度弧度法に直す必要があり、サイン、コサインの関数は弧度法以外では動かない\n",
    "#[結果の予想]他の二辺が出る。角度を弧度法に直さないとうまくいかない。\n",
    "\n",
    "\n",
    "# 3つ目\n",
    "print(math.tan(math.pi/3))\n",
    "#[説明]与えられた角度から、タンジェントの値を出す。正弦や余弦と同様に、弧度法でないとうまくいかない。今回はパイをつかった。\n",
    "#[結果の予想]２つ目と同じ。\n",
    "\n"
   ]
  },
  {
   "cell_type": "code",
   "execution_count": 1,
   "metadata": {},
   "outputs": [
    {
     "name": "stdout",
     "output_type": "stream",
     "text": [
      "28.274333882308138\n",
      "Sentaro Sakura\n",
      "28.274333882308138\n"
     ]
    }
   ],
   "source": [
    "\"\"\" 課題4: 自分で作った関数をimportする \"\"\"\n",
    "from practice6th import myname,circlearea\n",
    "\n",
    "print(myname())\n",
    "\n",
    "def myname():\n",
    "    return 'Sentaro Sakura'\n",
    "\n",
    "\n",
    "from practice6th import circlearea\n",
    "\n",
    "print(circlearea(3))\n",
    "\n"
   ]
  },
  {
   "cell_type": "code",
   "execution_count": null,
   "metadata": {},
   "outputs": [],
   "source": []
  }
 ],
 "metadata": {
  "kernelspec": {
   "display_name": "Python 3.10.3 64-bit",
   "language": "python",
   "name": "python3"
  },
  "language_info": {
   "codemirror_mode": {
    "name": "ipython",
    "version": 3
   },
   "file_extension": ".py",
   "mimetype": "text/x-python",
   "name": "python",
   "nbconvert_exporter": "python",
   "pygments_lexer": "ipython3",
   "version": "3.10.3"
  },
  "vscode": {
   "interpreter": {
    "hash": "22ffae252b668d926353516783295524e43abf5e0fe319c07f264f844d99fbf2"
   }
  }
 },
 "nbformat": 4,
 "nbformat_minor": 2
}
