{
 "cells": [
  {
   "cell_type": "code",
   "execution_count": 1,
   "metadata": {},
   "outputs": [
    {
     "name": "stdout",
     "output_type": "stream",
     "text": [
      "None\n"
     ]
    }
   ],
   "source": [
    "\"\"\" 確認問題 1 \"\"\"\n",
    "def f(x):\n",
    "    x = x + 1\n",
    "    \n",
    "print(f(1))"
   ]
  },
  {
   "cell_type": "markdown",
   "metadata": {},
   "source": []
  },
  {
   "cell_type": "code",
   "execution_count": 4,
   "metadata": {},
   "outputs": [
    {
     "name": "stdout",
     "output_type": "stream",
     "text": [
      "f(x): 2\n",
      "g(x): 3\n",
      "g(f(x)) 4\n"
     ]
    }
   ],
   "source": [
    "\"\"\" 確認問題 2 \"\"\"\n",
    "\n",
    "def f(x):\n",
    "    x = x + 1\n",
    "    return x\n",
    "\n",
    "def g(x):\n",
    "    x = x + 2\n",
    "    return x\n",
    "\n",
    "def h(x):\n",
    "    x = x * 3\n",
    "    return x\n",
    "\n",
    "x = 1\n",
    "print('f(x):', f(x))\n",
    "print('g(x):', g(x))\n",
    "print('g(f(x))', g(f(x)))\n",
    "\n",
    "\n",
    "# h(g(f(x))) と　f(g(h(x))) の結果を比較しなさい．"
   ]
  },
  {
   "cell_type": "code",
   "execution_count": 5,
   "metadata": {},
   "outputs": [
    {
     "name": "stdout",
     "output_type": "stream",
     "text": [
      "2\n",
      "5\n"
     ]
    }
   ],
   "source": [
    "\"\"\" 確認問題 3_1 \"\"\"\n",
    "def f(y):\n",
    "    x = 1\n",
    "    x +=  1\n",
    "    print(x)\n",
    "    \n",
    "x = 5\n",
    "f(x)\n",
    "print(x)"
   ]
  },
  {
   "cell_type": "code",
   "execution_count": 9,
   "metadata": {},
   "outputs": [
    {
     "name": "stdout",
     "output_type": "stream",
     "text": [
      "5\n",
      "6\n",
      "5\n"
     ]
    }
   ],
   "source": [
    "\"\"\" 確認問題 3_2 \"\"\"\n",
    "def g(y):\n",
    "    print(x)\n",
    "    print(x+1)\n",
    "    \n",
    "x = 5\n",
    "g(x)\n",
    "print(x)"
   ]
  },
  {
   "cell_type": "code",
   "execution_count": 6,
   "metadata": {},
   "outputs": [
    {
     "ename": "UnboundLocalError",
     "evalue": "local variable 'z' referenced before assignment",
     "output_type": "error",
     "traceback": [
      "\u001b[1;31m---------------------------------------------------------------------------\u001b[0m",
      "\u001b[1;31mUnboundLocalError\u001b[0m                         Traceback (most recent call last)",
      "Cell \u001b[1;32mIn [6], line 7\u001b[0m\n\u001b[0;32m      4\u001b[0m       z \u001b[39m=\u001b[39m z \u001b[39m+\u001b[39m \u001b[39m1\u001b[39m\n\u001b[0;32m      6\u001b[0m z \u001b[39m=\u001b[39m \u001b[39m5\u001b[39m\n\u001b[1;32m----> 7\u001b[0m h(\u001b[39m1\u001b[39;49m)\n\u001b[0;32m      8\u001b[0m \u001b[39mprint\u001b[39m(z)\n",
      "Cell \u001b[1;32mIn [6], line 4\u001b[0m, in \u001b[0;36mh\u001b[1;34m(y)\u001b[0m\n\u001b[0;32m      2\u001b[0m \u001b[39mdef\u001b[39;00m \u001b[39mh\u001b[39m(y):\n\u001b[0;32m      3\u001b[0m       \u001b[39m#global z\u001b[39;00m\n\u001b[1;32m----> 4\u001b[0m       z \u001b[39m=\u001b[39m z \u001b[39m+\u001b[39m \u001b[39m1\u001b[39m\n",
      "\u001b[1;31mUnboundLocalError\u001b[0m: local variable 'z' referenced before assignment"
     ]
    }
   ],
   "source": [
    "\"\"\" 確認問題 3_3 \"\"\"\n",
    "def h(y):\n",
    "      #global z\n",
    "      z = z + 1\n",
    "        \n",
    "z = 5\n",
    "h(1)\n",
    "print(z)1"
   ]
  },
  {
   "cell_type": "code",
   "execution_count": 7,
   "metadata": {},
   "outputs": [
    {
     "name": "stdout",
     "output_type": "stream",
     "text": [
      "Help on function f in module __main__:\n",
      "\n",
      "f(y)\n",
      "\n"
     ]
    }
   ],
   "source": [
    "\"\"\" 確認問題 4 \"\"\"\n",
    "import datetime\n",
    "\n",
    "birthday = '2000/10/3'\n",
    "birthday = datetime.datetime.strptime(birthday, '%Y/%m/%d')\n",
    "#ここにdatetime関数の仕様を表示する文を追記しなさい．\n",
    "#ただし，ここではdatetime型は変数birthdayとして定義されています．\n",
    "help(f)"
   ]
  },
  {
   "cell_type": "code",
   "execution_count": 6,
   "metadata": {},
   "outputs": [],
   "source": [
    "\"\"\"確認問題 5: ブラックボックステストだけでは不十分\"\"\"\n",
    "def isPrim(x):\n",
    "    \"\"\" xを非負のint型とする\n",
    "          xが素数ならばTrue、そうでなければFaseを返す\"\"\"\n",
    "    if x <= 2:\n",
    "        return False\n",
    "    for i in range(2,x):\n",
    "        if x%i == 0:\n",
    "            return False\n",
    "\n",
    "    return True\n",
    "\n",
    "# xが1〜5それぞれの場合の出力を確認せよ"
   ]
  },
  {
   "cell_type": "code",
   "execution_count": 51,
   "metadata": {},
   "outputs": [
    {
     "name": "stdout",
     "output_type": "stream",
     "text": [
      "120\n",
      "120\n"
     ]
    }
   ],
   "source": [
    "\"\"\" 課題 1 \"\"\"\n",
    "#掛け算関数 g(x＊y)を作成し、その関数の引数に自分自身の関数を用いることで、1*2*3*4*5 の計算結果を出力する\n",
    "#g(g(g(1, 2)))のような形\n",
    "#また、For文を使ってその計算を確認する\n",
    "def g(x,y):\n",
    "    s = x*y\n",
    "    return s\n",
    "\n",
    "\n",
    "print(g(5,g(4,g(3,g(1,2)))))\n",
    "\n",
    "s=1\n",
    "for i in range (1,6):\n",
    "    s= s*i\n",
    "\n",
    "print(s)"
   ]
  },
  {
   "cell_type": "code",
   "execution_count": 6,
   "metadata": {},
   "outputs": [
    {
     "name": "stdout",
     "output_type": "stream",
     "text": [
      "知りたい項目を入力してください．\n",
      "1: 年齢\n",
      "2: 誕生日までの日数\n",
      "2022-11-09\n",
      "2022-11-10\n",
      "-1 day, 0:00:00\n",
      "誕生日まで後 1 日\n"
     ]
    }
   ],
   "source": [
    "#!/usr/bin/env python\n",
    "# -*- coding: utf-8 -*-\n",
    "\n",
    "\"\"\" 課題 2 \"\"\"\n",
    "\n",
    "import datetime\n",
    "\n",
    "#old関数を完成させなさい．\n",
    "def old(birthday, today):\n",
    "    print('今年で %d 歳ですね' %(today.year - birthday.year))\n",
    "    \n",
    "def remainDay(birthday, today):\n",
    "    a = datetime.date(today.year, birthday.month, birthday.day)\n",
    "    b = datetime.date(today.year, today.month, today.day)\n",
    "    print(a)\n",
    "    print(b)\n",
    "    print(a-b)\n",
    "    print('誕生日まで後 %d 日' %(b-a).days)\n",
    "\n",
    "\n",
    "birthday = input('生年月日を入力してください．')\n",
    "birthday = datetime.datetime.strptime(birthday, '%Y/%m/%d') #入力された文字列をdatetime型に変換\n",
    "today = datetime.datetime.now() #今日の日付（と現在時刻）を取得\n",
    "\n",
    "print('知りたい項目を入力してください．')\n",
    "print('1: 年齢')\n",
    "print('2: 誕生日までの日数')\n",
    "select = input('---> ')\n",
    "\n",
    "if(select == \"1\"):\n",
    "    old(birthday, today)\n",
    "elif(select == \"2\"):\n",
    "    remainDay(birthday, today)\n",
    "else:\n",
    "    print(\"入力された番号には対応していません．\")"
   ]
  },
  {
   "cell_type": "code",
   "execution_count": null,
   "metadata": {},
   "outputs": [],
   "source": [
    "\"\"\"課題 3\"\"\"\n",
    "\n",
    "#第３回の練習課題１を、関数を用いたコードに直せよ。\n",
    "#課題の内容：総当たりを用いて，数の立方根の近似値を探すプログラムの作成\n",
    "#関数の戻り値（return)は解としてください\n",
    "#練習課題 1\n",
    "\n",
    "#総当たりを用いて，数の立方根の近似値を探すプログラムを作成してください\n",
    "\n",
    "# gosa = 0.01, step = 0.001，そしてv = -27，27と28で入力し，計算が正しいかどうか確認\n",
    "# gosa = 0.01, step = 1，そしてv = 27と28で入力して，探す回数と結果を確認\n",
    "# gosa = 0.01, setp = 0.00001, そしてv = 27と28で入力して，探す回数と結果を確認\n",
    "\n",
    "# 以上の結果について考察してください\n",
    "def cuberoot(v,step,gosa):\n",
    "    if v < 0:\n",
    "        step = -step #マイナス方向で答えを探す\n",
    "\n",
    "    kaisu = 0\n",
    "    x = 0.0 #探す回答\n",
    "\n",
    "fx = x**3 - v\n",
    "#ここにコードを書いてください\n"
   ]
  },
  {
   "cell_type": "code",
   "execution_count": null,
   "metadata": {},
   "outputs": [],
   "source": [
    "\"\"\"課題 4\"\"\"\n",
    "#ニュートン法を用いて，ルート関数を作成せよ\n",
    "\n",
    "def sqrt(x, epsilon):\n",
    "    \"\"\"xとepsilonをそれぞれ\n",
    "    x>=0,\n",
    "    epsilon > 0\n",
    "    を満たすfloat型とする．\n",
    "    x-epsilon <= result*result <= x+epsilon\n",
    "    を満たすresultを返す\"\"\"\n",
    "    \n",
    "print(sqrt(3, 0.01))"
   ]
  },
  {
   "cell_type": "code",
   "execution_count": 1,
   "metadata": {},
   "outputs": [
    {
     "name": "stdout",
     "output_type": "stream",
     "text": [
      "解なし\n",
      "None\n",
      "-1.0\n",
      "(1.0000109257780434, -3.0000109257780436)\n"
     ]
    }
   ],
   "source": [
    "\"\"\"追加課題\"\"\"\n",
    "\n",
    "#ニュートン法を用いて，x**2 + ax + b = 0 の方程式を解く関数を作成せよ\n",
    "\n",
    "def Quadratic_equation(a, b, epsilon):\n",
    "    \"\"\"二次関数f(x) = x**2 + ax + b\n",
    "    epsilon > 0\n",
    "    頂点: f'(xs) = 0, xs = -a/2\n",
    "    f(xs)>0，解が存在しない\n",
    "    f(xs)=0，一個の解\n",
    "    f(xs)>0，二個の解\"\"\"\n",
    "\n",
    "\n",
    "# epsilon = 0.1, (a = 2, b = 3), (a=2, b= 1), (a=2, b= -3)\n",
    "print(Quadratic_equation(2, 3, 0.1))\n",
    "print(Quadratic_equation(2, 1, 0.1))\n",
    "print(Quadratic_equation(2, -3, 0.1))"
   ]
  },
  {
   "cell_type": "code",
   "execution_count": null,
   "metadata": {},
   "outputs": [],
   "source": [
    "\n",
    "def Quadratic_equation(a, b, epsilon):\n",
    "    \"\"\"二次関数f(x) = x**2 + ax + b\n",
    "    epsilon > 0\n",
    "    頂点: f'(xs) = 0, xs = -a/2\n",
    "    f(xs)>0，解が存在しない\n",
    "    f(xs)=0，一個の解\n",
    "    f(xs)>0，二個の解\"\"\"\n",
    "\n",
    "\n",
    "# epsilon = 0.1, (a = 2, b = 3), (a=2, b= 1), (a=2, b= -3)\n",
    "print(Quadratic_equation(2, 3, 0.1))\n",
    "print(Quadratic_equation(2, 1, 0.1))\n",
    "print(Quadratic_equation(2, -3, 0.1))"
   ]
  },
  {
   "cell_type": "code",
   "execution_count": null,
   "metadata": {},
   "outputs": [],
   "source": []
  }
 ],
 "metadata": {
  "kernelspec": {
   "display_name": "Python 3.10.3 64-bit",
   "language": "python",
   "name": "python3"
  },
  "language_info": {
   "codemirror_mode": {
    "name": "ipython",
    "version": 3
   },
   "file_extension": ".py",
   "mimetype": "text/x-python",
   "name": "python",
   "nbconvert_exporter": "python",
   "pygments_lexer": "ipython3",
   "version": "3.10.3"
  },
  "vscode": {
   "interpreter": {
    "hash": "22ffae252b668d926353516783295524e43abf5e0fe319c07f264f844d99fbf2"
   }
  }
 },
 "nbformat": 4,
 "nbformat_minor": 2
}
