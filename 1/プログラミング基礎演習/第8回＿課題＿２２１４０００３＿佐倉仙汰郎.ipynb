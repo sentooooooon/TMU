{
 "cells": [
  {
   "cell_type": "code",
   "execution_count": 17,
   "metadata": {},
   "outputs": [
    {
     "name": "stdout",
     "output_type": "stream",
     "text": [
      "存在しません\n"
     ]
    }
   ],
   "source": [
    "#課題０\n",
    "x = {'鉛筆':'文具', 'ミニタオル':'日用品', 'マスク':'衛生用品', 'ティッシュ':'日用品', '塩':'食品'}\n",
    "\n",
    "s = str(input('商品名を入力'))\n",
    "\n",
    "if s in x.keys():\n",
    "    print(x[s])\n",
    "else:\n",
    "    print(\"存在しません\")\n"
   ]
  },
  {
   "cell_type": "code",
   "execution_count": 20,
   "metadata": {},
   "outputs": [
    {
     "name": "stdout",
     "output_type": "stream",
     "text": [
      "None\n",
      "最高得点者はBradleyで、77.56112968858558点\n",
      "最低得点者はMariaで、20.56235260433848点\n",
      "平均値は50.5445262178773です\n",
      "標準偏差は10.211171258941892です\n"
     ]
    }
   ],
   "source": [
    "#課題１\n",
    "\n",
    "import mod8th as mt\n",
    "\n",
    "mt.init(22140003)\n",
    "\n",
    "\n",
    "Data = mt.getPractice1()\n",
    "#平均を求める\n",
    "ave_score = sum(Data.values()) / len(Data)\n",
    "#標準偏差を求める\n",
    "s = 0\n",
    "for i in Data.values():\n",
    "    s = s  + ((i - ave_score)**2)\n",
    "d = (s / len(Data))**(1/2)\n",
    "\n",
    "Maxscore = max(Data.values())\n",
    "Minscore = min(Data.values())\n",
    "for key, values in Data.items():\n",
    "    if values == Maxscore:\n",
    "        Maxscorer = key\n",
    "    elif values == Minscore:\n",
    "        Minscorer = key\n",
    "\n",
    "print(f'最高得点者は{Maxscorer}で、{Maxscore}点')\n",
    "print(f'最低得点者は{Minscorer}で、{Minscore}点')\n",
    "print(f'平均値は{ave_score}です')\n",
    "print(f'標準偏差は{d}です')\n",
    "\n",
    "\n"
   ]
  },
  {
   "cell_type": "code",
   "execution_count": 2,
   "metadata": {},
   "outputs": [
    {
     "name": "stdout",
     "output_type": "stream",
     "text": [
      "g-e-ch-h-be-h-j-cg-ce-be-cj-b-j-da-ca-cd-cc-ch-d-cf-cj-be-be-cc-bi-h-cc-bf-bb-cb-ch-e-f-bi-bi-ci-a-bh-ch-cg-be-bc-be-bb-cg-h-cc-bg-bb-cj-cb-ba-ci-e-g-a-cd-ce-ba-ca-bj-bd-b-b-d-ba-ce-bh-cj-bi-cc-cj-bg-bi-a-bh-d-ce-bg-ce-i-i-a-bj-i-cj-e-i-b-bb-ci-bc-h-c-b-bb-bi-bf-a-cg-g-cd-d-d-f-bd-bg-d-ci-cd-bg-c-ci-h-bb-ca-a-da-f-cj-d-g-a-a-ch-bh-bh-ch-bj-cj-ce-cf-cd-a-bd-a-ca-bc-bg-da-bb-e-f-bh-f-ba-ci-i-cf-a-bd-bf-a-d-cg-c-bf-ch-bj-g-bh-bj-bb-bj-bd-g-j-bg-ch-bh-bj-bg-bd-ce-d-i-cg-cf-cj-g-bf-g-bh-be-bf-c-a-bg-h-i-cb-f-cg-ch-bd-be-bi-bh-cj-g-cj-h-ce-bg-bi-b-bb-bh-d-ci-d-bd-cf-i-e-cj-ci-b-d-bf-ci-bh-bi-a-cb-da-cj-bi-cj-bh-ba-da-cg-da-bd-bj-h-g-c-j-cd-j-f-h-b-c-bi-be-i-cd-e-bb-ce-cd-cf-cc-da\n",
      "最大値は30\n",
      "最小値は0\n",
      "平均値は14.809338521400779\n"
     ]
    }
   ],
   "source": [
    "#課題２\n",
    "\n",
    "import mod8th as mt\n",
    "mt.init(22140003)\n",
    "\n",
    "p2d = mt.getPractice2Dict()\n",
    "text = mt.getPractice2()\n",
    "\n",
    "s = text\n",
    "for i,j in p2d.items():\n",
    "    s = s.replace(i,j)\n",
    "\n",
    "S = (list(s.split('-')))\n",
    "W=[]\n",
    "for i in S:\n",
    "    W.append(int(i))\n",
    "\n",
    "print(f'最大値は{max(W)}')\n",
    "print(f'最小値は{min(W)}')\n",
    "print(f'平均値は{(sum(W)) / len(W)}')\n"
   ]
  },
  {
   "cell_type": "code",
   "execution_count": 76,
   "metadata": {},
   "outputs": [
    {
     "ename": "TypeError",
     "evalue": "'builtin_function_or_method' object is not iterable",
     "output_type": "error",
     "traceback": [
      "\u001b[1;31m---------------------------------------------------------------------------\u001b[0m",
      "\u001b[1;31mTypeError\u001b[0m                                 Traceback (most recent call last)",
      "Cell \u001b[1;32mIn [76], line 10\u001b[0m\n\u001b[0;32m      6\u001b[0m p2d \u001b[39m=\u001b[39m mt\u001b[39m.\u001b[39mgetPractice2Dict()\n\u001b[0;32m      7\u001b[0m text \u001b[39m=\u001b[39m mt\u001b[39m.\u001b[39mgetPractice2()\n\u001b[1;32m---> 10\u001b[0m \u001b[39mfor\u001b[39;00m i,j \u001b[39min\u001b[39;00m p2d\u001b[39m.\u001b[39mitems:\n\u001b[0;32m     11\u001b[0m     \u001b[39mprint\u001b[39m(i,j)\n",
      "\u001b[1;31mTypeError\u001b[0m: 'builtin_function_or_method' object is not iterable"
     ]
    }
   ],
   "source": [
    "\n",
    "    "
   ]
  },
  {
   "cell_type": "code",
   "execution_count": 62,
   "metadata": {},
   "outputs": [
    {
     "name": "stdout",
     "output_type": "stream",
     "text": [
      "3.141592653589793\n"
     ]
    }
   ],
   "source": [
    "s=0\n",
    "n = int(input('値を入力してください'))\n",
    "for k in range(n):\n",
    "    e = (16**(-k))*((4/(8*k+1)) - (2/(8*k+4)) - (1/(8*k+5)) - (1/(8*k+6)))\n",
    "    s = s + e\n",
    "print(s)"
   ]
  },
  {
   "cell_type": "code",
   "execution_count": null,
   "metadata": {},
   "outputs": [],
   "source": [
    "A = [3, 3, 3, 1, 1, 2, 2, 2, 3, 3, 2, 3, 2, 3, 3, 2, 2, 1, 0, 1, 2, 0,\n",
    "0, 3, 0, 3, 0, 1, 2, 1]\n",
    "\n",
    "c = 0\n",
    "s = 0\n",
    "Max = -2**31\n",
    "Min = 2**31\n",
    "for i in A:\n",
    "    c = c + 1\n",
    "    s = s + i\n",
    "    if Max < i:\n",
    "        Max = i\n",
    "    if Min > i:\n",
    "        Min = i\n",
    "\n",
    "\n"
   ]
  },
  {
   "cell_type": "code",
   "execution_count": 10,
   "metadata": {},
   "outputs": [
    {
     "name": "stdout",
     "output_type": "stream",
     "text": [
      "3\n",
      "30 3 0 54\n"
     ]
    }
   ],
   "source": [
    "A = [3, 3, 3, 1, 1, 2, 2, 2, 3, 3, 2, 3, 2, 3, 3, 2, 2, 1, 0, 1, 2, 0,\n",
    "0, 3, 0, 3, 0, 1, 2, 1]\n",
    "\n",
    "def list(B):\n",
    "    c = 0\n",
    "    s = 0\n",
    "    Max = -2**31\n",
    "    Min = 2**31\n",
    "    for i in A:\n",
    "        c = c + 1\n",
    "        s = s + i\n",
    "        if Max < i:\n",
    "            Max = i\n",
    "        if Min > i:\n",
    "            Min = i\n",
    "    return Max\n",
    "\n",
    "s = 0\n",
    "print(list(A))\n",
    "print(len(A),max(A),min(A),sum(A))"
   ]
  },
  {
   "cell_type": "code",
   "execution_count": 13,
   "metadata": {},
   "outputs": [
    {
     "name": "stdout",
     "output_type": "stream",
     "text": [
      "5050\n",
      "5050\n"
     ]
    }
   ],
   "source": [
    "L = []\n",
    "for i in range(1,101):\n",
    "    L.append(i)\n",
    "\n",
    "print(sum(L))\n",
    "\n",
    "s = 0\n",
    "for j in L:\n",
    "    s = s + j\n",
    "\n",
    "print(s)"
   ]
  },
  {
   "cell_type": "code",
   "execution_count": 51,
   "metadata": {},
   "outputs": [
    {
     "name": "stdout",
     "output_type": "stream",
     "text": [
      "5.1683168316831685\n",
      "[2, 6, 7, 10, 8, 1, 6, 8, 7, 10, 3, 4, 5, 2, 5, 5, 7, 9, 10, 8, 8, 1, 8, 3, 0, 10, 1, 8, 7, 0, 1, 3, 3, 3, 0, 1, 2, 2, 6, 5, 1, 5, 2, 4, 3, 5, 6, 1, 1, 0, 3, 9, 9, 8, 5, 9, 1, 9, 3, 4, 8, 8, 0, 6, 5, 10, 4, 4, 6, 10, 0, 9, 8, 8, 6, 8, 4, 5, 7, 5, 2, 0, 4, 9, 4, 10, 10, 10, 9, 7, 8, 5, 2, 7, 8, 2, 3, 8, 0, 1, 9]\n",
      "522\n",
      "522\n"
     ]
    }
   ],
   "source": [
    "import numpy as np\n",
    "\n",
    "L = []\n",
    "\n",
    "for i in range(101):\n",
    "    r = np.random.randint(0,11)\n",
    "    L.append(r)\n",
    "\n",
    "\n",
    "\n",
    "s = 0\n",
    "for j in L:\n",
    "    s = s + j \n",
    "\n",
    "\n",
    "ave = s / len(L)\n",
    "\n",
    "print(ave)\n",
    "print(L)\n",
    "print(s)\n",
    "print(sum(L))"
   ]
  },
  {
   "cell_type": "code",
   "execution_count": 70,
   "metadata": {},
   "outputs": [
    {
     "name": "stdout",
     "output_type": "stream",
     "text": [
      "['12', '14', '14', '19', '21', '18', '15', '23', '9', '26', '26', '14', '13', '8', '9', '13', '3', '17', '16', '2', '17']\n",
      "309\n"
     ]
    }
   ],
   "source": [
    "a = \"12-14-14-19-21-18-15-23-9-26-26-14-13-8-9-13-3-17-16-2-17\"\n",
    "b = a.split('-')\n",
    "print(b)\n",
    "\n",
    "\n",
    "s = 0\n",
    "for i in b:\n",
    "    s = s + int(i)\n",
    "\n",
    "\n",
    "\n",
    "print(s)"
   ]
  },
  {
   "cell_type": "code",
   "execution_count": 84,
   "metadata": {},
   "outputs": [
    {
     "name": "stdout",
     "output_type": "stream",
     "text": [
      "827\n",
      "827\n"
     ]
    }
   ],
   "source": [
    "d1 = {\"かもがわ\": 143,\n",
    "\"うきた\": 165,\n",
    "\"ふちゅうや\": 172,\n",
    "\"おうみ\": 171,\n",
    "\"すずき\": 176}\n",
    "s = 0\n",
    "for i in d1.values():\n",
    "    s += i\n",
    "\n",
    "print(sum(d1.values()))\n",
    "print(s)"
   ]
  }
 ],
 "metadata": {
  "kernelspec": {
   "display_name": "Python 3.10.3 64-bit",
   "language": "python",
   "name": "python3"
  },
  "language_info": {
   "codemirror_mode": {
    "name": "ipython",
    "version": 3
   },
   "file_extension": ".py",
   "mimetype": "text/x-python",
   "name": "python",
   "nbconvert_exporter": "python",
   "pygments_lexer": "ipython3",
   "version": "3.10.3 (tags/v3.10.3:a342a49, Mar 16 2022, 13:07:40) [MSC v.1929 64 bit (AMD64)]"
  },
  "orig_nbformat": 4,
  "vscode": {
   "interpreter": {
    "hash": "22ffae252b668d926353516783295524e43abf5e0fe319c07f264f844d99fbf2"
   }
  }
 },
 "nbformat": 4,
 "nbformat_minor": 2
}
