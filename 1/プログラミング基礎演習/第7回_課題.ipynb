{
 "cells": [
  {
   "cell_type": "code",
   "execution_count": null,
   "metadata": {},
   "outputs": [],
   "source": [
    "\"\"\" 練習課題1：文字列の使い方 \"\"\"\n",
    "# コメントアウトを外して実行し、エラーが出るものはなぜエラーになるのか確認せよ\n",
    "\n",
    "print('シングルクオート')\n",
    "print(\"ダブルクオート\")\n",
    "print('''三重クオートだけが中で改行を直接受け付けられる''')\n",
    "print(\"\"\"三重ダブルクオートも同じ\"\"\")\n",
    "\n",
    "print(\"シングル、ダブル\\nクオートには\\n記号が必要\")\n",
    "\n",
    "print('シングルクオートの中で'もういちどシングルクオートは使えない')\n",
    "print('シングルクオートの中で\"もういちど\"シングルクオートは使えない')\n",
    "\n",
    "print(\"ダブルクオートの中で\"もういちどダブルクオートは使えない\")\n",
    "print(\"ダブルクオートの中で'もういちど'ダブルクオートは使えない\")\n"
   ]
  },
  {
   "cell_type": "code",
   "execution_count": 3,
   "metadata": {},
   "outputs": [
    {
     "name": "stdout",
     "output_type": "stream",
     "text": [
      "2\n",
      "2\n",
      "3\n",
      "7\n",
      "日本語の文字列の例（日本語）\n",
      "english str version\n",
      "日本語ノ文字列ノ例（日本語）\n"
     ]
    }
   ],
   "source": [
    "\"\"\" 練習課題2：文字列のメソッド \"\"\"\n",
    "# 文字列のメソッドを動かし,動きを確認せよ\n",
    "\n",
    "s1 = \"日本語の文字列の例（日本語）\"\n",
    "s2 = \"English str version\"\n",
    "\n",
    "# 例\n",
    "print(s1.count(\"の\"))\n",
    "print(s2.count(\"n\"))\n",
    "\n",
    "print(s1.find('の'))\n",
    "print(s1.rfind('の'))\n",
    "\n",
    "print(s1.lower())\n",
    "print(s2.lower())\n",
    "\n",
    "print(s1.replace('の','ノ'))"
   ]
  },
  {
   "cell_type": "code",
   "execution_count": 11,
   "metadata": {},
   "outputs": [
    {
     "name": "stdout",
     "output_type": "stream",
     "text": [
      "<class 'list'>\n",
      "<class 'list'>\n",
      "[1, 2, 4, 6]\n",
      "1\n",
      "[0, 1, 2]\n",
      "[]\n",
      "[1]\n",
      "[1, 2]\n",
      "[3, 1, 2]\n",
      "[1, 2]\n"
     ]
    }
   ],
   "source": [
    "\"\"\" 練習課題3：リストのメソッド \"\"\"\n",
    "\n",
    "# 要素数5のリストを作ってみよ（L1は全要素が数字(int or float)、L2は全要素が文字列(str)とすること）\n",
    "L1 = [1,2,4,6]\n",
    "L2 = ['あ','い','う','え','お']\n",
    "\n",
    "print(type(L1))\n",
    "print(type(L2))\n",
    "\n",
    "print(L1)\n",
    "print(L1[0])\n",
    "\n",
    "LL = [ i for i in range(3)]\n",
    "print(LL)\n",
    "\n",
    "\n",
    "\n",
    "# 作成した2つのリストL1, L2に対してメソッドを使ってみよ\n",
    "#L1.extend('1')\n",
    "#L2.extend('かき')\n",
    "# print(L1)\n",
    "# print(L2)\n",
    "\n",
    "L = []\n",
    "print(L)\n",
    "L.append(1)\n",
    "print(L)\n",
    "\n",
    "L.append(2)\n",
    "print(L)\n",
    "\n",
    "L.insert(0,3)\n",
    "print(L)\n",
    "\n",
    "L.remove(3)\n",
    "print(L)\n",
    "\n"
   ]
  },
  {
   "cell_type": "code",
   "execution_count": 14,
   "metadata": {},
   "outputs": [
    {
     "name": "stdout",
     "output_type": "stream",
     "text": [
      "range(0, 5)\n",
      "range(5)\n",
      "0\n",
      "1\n",
      "2\n",
      "3\n",
      "4\n",
      "3\n",
      "2\n",
      "1\n",
      "0\n",
      "-1\n",
      "-2\n",
      "-3\n"
     ]
    }
   ],
   "source": [
    "\"\"\" 練習課題4：　rangeの使い方 \"\"\"\n",
    "\n",
    "print(range(5))\n",
    "\n",
    "print(\"range(5)\")\n",
    "for x in range(5):\n",
    "    print(x)\n",
    "\n",
    "# print(\"3から開始して刻み幅-１の終了条件が-3のrangeをかいてみよ\")    \n",
    "# for x in XXXXXXXXX:\n",
    "#     print(x)\n",
    "for x in range(3,-4,-1):\n",
    "    print(x)"
   ]
  },
  {
   "cell_type": "code",
   "execution_count": 17,
   "metadata": {},
   "outputs": [
    {
     "name": "stdout",
     "output_type": "stream",
     "text": [
      "[['晴れ', '曇り', '雨'], ['時雨', 'みぞれ', 'あられ', '霧']]\n",
      "[['晴れ', '曇り', '雨'], ['時雨', 'みぞれ', 'あられ', '霧']]\n",
      "True\n",
      "1969591385280 1969554685376\n",
      "[['晴れ', '曇り', '雨'], ['時雨', 'みぞれ', 'あられ', '霧', '大雨']]\n",
      "[['晴れ', '曇り', '雨'], ['時雨', 'みぞれ', 'あられ', '霧']]\n",
      "False\n"
     ]
    }
   ],
   "source": [
    "\"\"\" 練習問題5： リストの可変性　\"\"\"\n",
    "# リストの可変性について理解せよ\n",
    "weather = ['晴れ', '曇り', '雨']\n",
    "rains = ['時雨', 'みぞれ', 'あられ', '霧']\n",
    "\n",
    "weathers = [weather, rains]\n",
    "weathers1 = [['晴れ', '曇り', '雨'], ['時雨', 'みぞれ', 'あられ', '霧']]\n",
    "\n",
    "print(weathers)\n",
    "print(weathers1)\n",
    "print(weathers == weathers1)\n",
    "print(id(weathers), id(weathers1))\n",
    "\n",
    "rains.append('大雨')\n",
    "print(weathers)\n",
    "print(weathers1)\n",
    "print(weathers == weathers1)"
   ]
  },
  {
   "cell_type": "code",
   "execution_count": 35,
   "metadata": {},
   "outputs": [
    {
     "name": "stdout",
     "output_type": "stream",
     "text": [
      "['生', '生米生卵']\n",
      "['Red lo', '', 'y, yellow lo', '', 'y']\n",
      "None\n",
      "Red Lorry, Yellow Lorry\n"
     ]
    }
   ],
   "source": [
    "\"\"\" 課題1 文字列とリストのメソッド \"\"\"\n",
    "\n",
    "str_sample_jp = \"生麦生米生卵\"\n",
    "str_sample_en = \"Red lorry, yellow lorry\"\n",
    "\n",
    "list_sample = [1,3,5,7,9, 11, 2, 4, 7, 9]\n",
    "\n",
    "#いっこめ\n",
    "print(str_sample_jp.split('麦'))\n",
    "print(str_sample_en.split('r'))\n",
    "\n",
    "#二つ目\n",
    "print(list_sample.clear())\n",
    "\n",
    "#三つ目\n",
    "print(str_sample_en.title())\n"
   ]
  },
  {
   "cell_type": "code",
   "execution_count": 122,
   "metadata": {},
   "outputs": [
    {
     "ename": "TypeError",
     "evalue": "'int' object is not iterable",
     "output_type": "error",
     "traceback": [
      "\u001b[1;31m---------------------------------------------------------------------------\u001b[0m",
      "\u001b[1;31mTypeError\u001b[0m                                 Traceback (most recent call last)",
      "Cell \u001b[1;32mIn [122], line 18\u001b[0m\n\u001b[0;32m      9\u001b[0m         \u001b[39mreturn\u001b[39;00m(l1)\n\u001b[0;32m     12\u001b[0m \u001b[39m# この時のL1の中がどのようになっているか確認せよ\u001b[39;00m\n\u001b[0;32m     13\u001b[0m \n\u001b[0;32m     14\u001b[0m \n\u001b[0;32m     15\u001b[0m \u001b[39m#　　L1からL2と重複する要素を削除する正しいプログラムをremoveDups2として作成せよ\u001b[39;00m\n\u001b[1;32m---> 18\u001b[0m \u001b[39mprint\u001b[39m(removeDups(L1,L2))\n",
      "Cell \u001b[1;32mIn [122], line 6\u001b[0m, in \u001b[0;36mremoveDups\u001b[1;34m(l1, l2)\u001b[0m\n\u001b[0;32m      5\u001b[0m \u001b[39mdef\u001b[39;00m \u001b[39mremoveDups\u001b[39m(l1, l2):\n\u001b[1;32m----> 6\u001b[0m     \u001b[39mfor\u001b[39;00m e1 \u001b[39min\u001b[39;00m \u001b[39mlen\u001b[39m(l1):\n\u001b[0;32m      7\u001b[0m         \u001b[39mif\u001b[39;00m e1 \u001b[39min\u001b[39;00m l2:\n\u001b[0;32m      8\u001b[0m             l1\u001b[39m.\u001b[39mremove(e1)\n",
      "\u001b[1;31mTypeError\u001b[0m: 'int' object is not iterable"
     ]
    }
   ],
   "source": [
    "\"\"\" 課題3 リストから要素を取り除く関数 \"\"\"\n",
    "# removeDupsを動かし挙動を確認せよ。また、正しく動くよう変更せよ。\n",
    "L1 = [1, 2, 3, 4] \n",
    "L2 = [1, 2, 5, 6]\n",
    "def removeDups(l1, l2):\n",
    "    for e1 in len(l1):\n",
    "        if e1 in l2:\n",
    "            l1.remove(e1)\n",
    "        return(l1)\n",
    "\n",
    "\n",
    "# この時のL1の中がどのようになっているか確認せよ\n",
    "\n",
    "\n",
    "#　　L1からL2と重複する要素を削除する正しいプログラムをremoveDups2として作成せよ\n",
    "\n",
    "\n",
    "print(removeDups(L1,L2))\n"
   ]
  },
  {
   "cell_type": "code",
   "execution_count": null,
   "metadata": {},
   "outputs": [],
   "source": []
  },
  {
   "cell_type": "code",
   "execution_count": 115,
   "metadata": {},
   "outputs": [
    {
     "name": "stdout",
     "output_type": "stream",
     "text": [
      "None\n"
     ]
    }
   ],
   "source": [
    "\"\"\" 自由課題：共通のメソッド \"\"\"\n",
    "L1 = [1, 2, 3, 4] \n",
    "L2 = [1, 2, 5, 6]\n",
    "def removeDups(l1, l2):\n",
    "    for e1 in l1:\n",
    "        if e1 in l2:\n",
    "            l1.remove(e1)\n",
    "\n",
    "\n",
    "print(removeDups(L1,L2))"
   ]
  }
 ],
 "metadata": {
  "kernelspec": {
   "display_name": "Python 3.10.3 64-bit",
   "language": "python",
   "name": "python3"
  },
  "language_info": {
   "codemirror_mode": {
    "name": "ipython",
    "version": 3
   },
   "file_extension": ".py",
   "mimetype": "text/x-python",
   "name": "python",
   "nbconvert_exporter": "python",
   "pygments_lexer": "ipython3",
   "version": "3.10.3"
  },
  "vscode": {
   "interpreter": {
    "hash": "22ffae252b668d926353516783295524e43abf5e0fe319c07f264f844d99fbf2"
   }
  }
 },
 "nbformat": 4,
 "nbformat_minor": 2
}
