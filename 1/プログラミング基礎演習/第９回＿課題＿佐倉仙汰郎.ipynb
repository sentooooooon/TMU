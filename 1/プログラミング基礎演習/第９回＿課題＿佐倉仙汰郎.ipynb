{
 "cells": [
  {
   "cell_type": "code",
   "execution_count": null,
   "metadata": {},
   "outputs": [],
   "source": [
    "f = open(\"diary.txt\", \"r\", encoding = \"utf-8\")\n",
    "a = 'a\\na\\na\\n'\n",
    "#print(a)\n",
    "text = f.read()\n",
    "l = text.split(\"\\n\")\n",
    "print(l)\n",
    "s = 0\n",
    "for i in l:\n",
    "    s += int(i)\n",
    "print(s)\n",
    "f.close()"
   ]
  },
  {
   "cell_type": "code",
   "execution_count": null,
   "metadata": {},
   "outputs": [],
   "source": [
    "f = open(\"first-out.csv\",\"w\")\n",
    "f.write(\"x,y\\n\")\n",
    "f.write(\"1,2\\n\")\n",
    "f.write(\"2,3\\n\")\n",
    "f.write(\"3,2\\n\")\n",
    "f.write(\"4,3\\n\")\n",
    "f.write(\"5,2\\n\")\n",
    "f.write(\"6,3\\n\")\n",
    "f.close()"
   ]
  },
  {
   "cell_type": "code",
   "execution_count": null,
   "metadata": {},
   "outputs": [],
   "source": [
    "f = open(\"triangle.csv\",\"w\")\n",
    "f.write(\"x,y\\n\")\n",
    "f.write(\"2,2\\n\")\n",
    "f.write(\"3,3\\n\")\n",
    "f.write(\"4,2\\n\")\n",
    "f.write(\"2,2\\n\")\n",
    "f.close()"
   ]
  },
  {
   "cell_type": "code",
   "execution_count": null,
   "metadata": {},
   "outputs": [],
   "source": [
    "f = open(\"zigzag.csv\", \"w\" )\n",
    "i =  0\n",
    "f.write(\"x,y\\n\")\n",
    "for i in range(50):\n",
    "    y = i%2\n",
    "    x = i\n",
    "    f.write(f\"{x},{y}\\n\")\n",
    "    \n",
    "f.close()"
   ]
  },
  {
   "cell_type": "code",
   "execution_count": null,
   "metadata": {},
   "outputs": [],
   "source": [
    "f = open(\"kansu.csv\", \"w\")\n",
    "dx = 0.1\n",
    "x = 0\n",
    "while True:\n",
    "    \n",
    "    y = (x-1)*(x-2)\n",
    "    f.write(f\"{x},{y}\\n\")\n",
    "    x = x + dx\n",
    "    if x >= 3:break\n",
    "\n",
    "f.close()"
   ]
  },
  {
   "cell_type": "code",
   "execution_count": null,
   "metadata": {},
   "outputs": [],
   "source": [
    "#課題１\n",
    "f = open(\"water.txt\", \"r\", encoding = \"utf-8\")\n",
    "t = f.read()\n",
    "text = t.split(' ')\n",
    "\n",
    "    \n",
    "\n",
    "#print(text)\n",
    "\n",
    "d = {}\n",
    "for w in text:\n",
    "    if w not in d:\n",
    "        d[w] = 0\n",
    "    d[w] += 1\n",
    "def S(k):\n",
    "    return -d[k]\n",
    "\n",
    "for k in sorted(d, key=S):\n",
    "    print(k,d[k])"
   ]
  },
  {
   "cell_type": "code",
   "execution_count": null,
   "metadata": {},
   "outputs": [],
   "source": [
    "#課題２\n",
    "\n",
    "import random\n",
    "\n",
    "f = open('circle.csv', 'w')\n",
    "f.write(\"x,y\\n\")\n",
    "\n",
    "for i in range(1000):\n",
    "    x0 = random.uniform(-1,1)\n",
    "    y0 = random.uniform(-1,1)\n",
    "    r = (((x0)**2) + ((y0)**2) )**(1/2)\n",
    "    \n",
    "    if r > (10)**(-5):\n",
    "        x,y = (x0)/r , (y0)/r\n",
    "        f.write(f'{x},{y}\\n')"
   ]
  },
  {
   "cell_type": "code",
   "execution_count": null,
   "metadata": {},
   "outputs": [],
   "source": [
    "#課題３\n",
    "import random\n",
    "\n",
    "f = open('Newton.csv', 'w')\n",
    "f.write(\"x,y\\n\")\n",
    "gosa = 0.1\n",
    "\n",
    "\n",
    "for i in range(100):\n",
    "    x0 = random.uniform(-1,1)\n",
    "    while abs(((x0**2) - 1)**(1/2)) >= gosa:\n",
    "        \n",
    "        x1 = x0 - (((x0**2) - 1)**(1/2)) / (x0/(2*(((x0**2)-1))**(1/2)))\n",
    "        x0 = x1\n",
    "        print(x1)\n"
   ]
  },
  {
   "cell_type": "code",
   "execution_count": null,
   "metadata": {},
   "outputs": [],
   "source": [
    "#課題４\n",
    "f = open(\"9th-asteraceae.data\", \"r\", encoding = \"utf-8\")\n",
    "text = f.read()\n",
    "print(type(text))"
   ]
  }
 ],
 "metadata": {
  "kernelspec": {
   "display_name": "Python 3",
   "language": "python",
   "name": "python3"
  },
  "language_info": {
   "name": "python",
   "version": "3.10.3"
  },
  "orig_nbformat": 4,
  "vscode": {
   "interpreter": {
    "hash": "22ffae252b668d926353516783295524e43abf5e0fe319c07f264f844d99fbf2"
   }
  }
 },
 "nbformat": 4,
 "nbformat_minor": 2
}
