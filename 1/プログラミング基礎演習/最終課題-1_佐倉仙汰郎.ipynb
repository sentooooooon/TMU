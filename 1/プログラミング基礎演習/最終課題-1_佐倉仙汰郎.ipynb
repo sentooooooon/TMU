{
 "cells": [
  {
   "cell_type": "code",
   "execution_count": null,
   "metadata": {},
   "outputs": [],
   "source": [
    "\"課題１について教え合うことがあれば記入してください：\n",
    "１）教えてあげた人の名前：\n",
    "２）教えてもらった人の名前：\n",
    "\n",
    "\"感想（課題の難しさや課題を解けた時間など）：\n",
    "最初の課題が分からなかった。\n",
    "外部ライブラリーを使いたい。\n"
   ]
  },
  {
   "cell_type": "code",
   "execution_count": 8,
   "metadata": {},
   "outputs": [
    {
     "name": "stdout",
     "output_type": "stream",
     "text": [
      "['*', '*', '*', '*', '0', '*', '*', '*', '*']\n",
      "['*', '*', '0', '0', '0', '0', '0', '*', '*']\n",
      "['*', '0', '0', '0', '0', '0', '0', '0', '*']\n",
      "['*', '0', '0', '0', '0', '0', '0', '0', '*']\n",
      "['0', '0', '0', '0', '0', '0', '0', '0', '0']\n",
      "['*', '0', '0', '0', '0', '0', '0', '0', '*']\n",
      "['*', '0', '0', '0', '0', '0', '0', '0', '*']\n",
      "['*', '*', '0', '0', '0', '0', '0', '*', '*']\n",
      "['*', '*', '*', '*', '0', '*', '*', '*', '*']\n"
     ]
    }
   ],
   "source": [
    "\"“*”と”0”を組み合わせて四角形に囲まれた円形のような絵を出力する\"#3点\n",
    "def circle(r):\n",
    "    A = []\n",
    "    for y in range(-r, r + 1):\n",
    "        for x in range(-r, r + 1):\n",
    "            if x * x + y * y <= r**2 :\n",
    "                A.append('0')\n",
    "            else:\n",
    "                A.append('*')\n",
    "        print(A)\n",
    "        A.clear()\n",
    "\n",
    "circle(4)\n",
    "    "
   ]
  },
  {
   "cell_type": "code",
   "execution_count": 15,
   "metadata": {},
   "outputs": [
    {
     "name": "stdout",
     "output_type": "stream",
     "text": [
      "[0.0, 1.0, 0.0]\n"
     ]
    }
   ],
   "source": [
    "\"ベクトル外積関数\" #1点\n",
    "\n",
    "def VectorCrossProduct (Va, Vb):\n",
    "    VaxVb = [0.0, 0.0, 0.0]\n",
    "    #外積ベクトルの計算\n",
    "    VaxVb[0]=Va[1]*Vb[2] - Va[2]*Vb[1]\n",
    "    VaxVb[1]=Va[2]*Vb[0] - Va[0]*Vb[2]\n",
    "    VaxVb[2]=Va[0]*Vb[1] - Va[1]*Vb[0]\n",
    "    \n",
    "    return VaxVb\n",
    "\n",
    "#確認\n",
    "v1 = [0.0, 0.0, 1.0]\n",
    "v2 = [1.0, 0.0, 0.0]\n",
    "print(VectorCrossProduct(v1, v2))"
   ]
  },
  {
   "cell_type": "code",
   "execution_count": 9,
   "metadata": {},
   "outputs": [
    {
     "name": "stdout",
     "output_type": "stream",
     "text": [
      "2.449489742783178\n"
     ]
    }
   ],
   "source": [
    "\"2点の距離\" #1点\n",
    "\n",
    "import math\n",
    "\n",
    "def TwoPntDist(Pa, Pb):\n",
    "    d = 0.0\n",
    "    #２点の距離の計算\n",
    "    d = ((Pa[0] - Pb[0])**2 + (Pa[1] - Pb[1])**2  +(Pa[2] - Pb[2])**2)**(1/2)\n",
    "    \n",
    "    return d\n",
    "\n",
    "#確認\n",
    "pa = [1, 2, 3]\n",
    "pb = [2, 3, 5]\n",
    "print(TwoPntDist(pa, pb))\n"
   ]
  },
  {
   "cell_type": "code",
   "execution_count": 49,
   "metadata": {},
   "outputs": [
    {
     "name": "stdout",
     "output_type": "stream",
     "text": [
      "[[0, 0, 0], [1, 1, 0], [1, 1, 1], [0, 0, 1]]\n",
      "Minimum Distance =  1.0\n",
      "[[0, 0, 0], [0, 0, 1], [1, 1, 1], [1, 1, 0]] [[0, 0, 0], [1, 1, 1]]\n",
      "Points to make minimum distance are [0, 0, 0], [0, 0, 1] and ([1, 1, 1], [1, 1, 0]) .\n",
      "Maximum Distance =  1.7320508075688772\n",
      "Points to make maximum distance are [[0, 0, 0]] and [[1, 1, 1]].\n"
     ]
    }
   ],
   "source": [
    "\"リストの中の，各点の距離を求め，最短と最長距離をそれぞれ与える2点の組み合わせを探す\" #5点\n",
    "\n",
    "import sys\n",
    "\n",
    "def findDistAndPnts(List):\n",
    "    minDist, maxDist = sys.float_info.max, -1.0  #最短と最長の距離の初期値\n",
    "    pointsOfMinDist, pointsOfMaxDist = (-1, -1), (-1, -1)  #最短と最長距離をそれぞれ与える点\n",
    "    n = len(List) #点の数\n",
    "    A = []\n",
    "    D = []\n",
    "    Alist = []\n",
    "    for i in List:\n",
    "      Alist.append(i)\n",
    "  \n",
    "    #すべての点において\n",
    "        #点iから点jまでの距離\n",
    "    for i in Alist:\n",
    "          Alist.remove(i)\n",
    "          for j in Alist:\n",
    "            d = ((i[0] - j[0])**2 + (i[1] - j[1])**2  +(i[2] - j[2])**2)**(1/2)\n",
    "            Ld = [i,j,d]\n",
    "            D.append(d)\n",
    "            A.append(Ld)\n",
    "            \n",
    "        #最短距離の判断\n",
    "    minDist = min(D)\n",
    "    findminpo = []\n",
    "    findmaxpo = []\n",
    "    for k in A:\n",
    "      if k[2] == minDist:\n",
    "        mini = k[0]\n",
    "        minj = k[1]\n",
    "        findminpo.append(mini)\n",
    "        findminpo.append(minj)\n",
    "    pointsOfMinDist = findminpo\n",
    "                \n",
    "        #最長距離の判断\n",
    "    maxDist = max(D)\n",
    "    for k in A:\n",
    "      if k[2] == maxDist:\n",
    "        maxi = k[0]\n",
    "        maxj = k[1]\n",
    "        findmaxpo.append(maxi)\n",
    "        findmaxpo.append(maxj)\n",
    "    pointsOfMaxDist = findmaxpo\n",
    "                \n",
    "                \n",
    "    return minDist, maxDist, pointsOfMinDist, pointsOfMaxDist\n",
    "\n",
    "#確認\n",
    "p1 = [0, 0, 0]\n",
    "p2 = [1, 1, 0]\n",
    "p3 = [1, 1, 1]\n",
    "p4 = [0, 0, 1]\n",
    "L = [p1, p2, p3, p4]\n",
    "print(L)\n",
    "\n",
    "minD, maxD, pMin, pMax = findDistAndPnts(L)\n",
    "print('Minimum Distance = ', minD)\n",
    "print(pMin,pMax)\n",
    "print(f\"Points to make minimum distance are {pMin[0]}, {pMin[1]} and {pMin[2],pMin[3]}.\")\n",
    "print('Maximum Distance = ', maxD)\n",
    "print(\"Points to make maximum distance are {} and {}.\".format([pMax[0]], [pMax[1]]))"
   ]
  },
  {
   "cell_type": "code",
   "execution_count": 1,
   "metadata": {},
   "outputs": [
    {
     "name": "stdout",
     "output_type": "stream",
     "text": [
      "1.0\n",
      "最短と最長の長さを持つベクトル\n",
      "[0, -1, 0] [-0.5, 4.5, 3]\n",
      "ベクトル外積\n",
      "[-3.0, -0.0, -0.5]\n"
     ]
    }
   ],
   "source": [
    "\"リストから２点間の，最短と最長の長さを持つベクトルを探し，それぞれのベクトルの外積を求める\" #2点\n",
    "\n",
    "p1 = [1, 0, 0]  \n",
    "p2 = [1, 1, 0]\n",
    "p3 = [1, 1, 1]\n",
    "p4 = [1.5, 0, 1]\n",
    "p5 = [1.5, 2, 1]\n",
    "p6 = [-1.5, -2, 2]\n",
    "p7 = [2, -2.5, -2]\n",
    "p8 = [3, 0, -2.5]\n",
    "\n",
    "L = [p1, p2, p3, p4, p5, p6, p7, p8] #点のリスト\n",
    "\n",
    "\n",
    "#リストから最短と最長距離をそれぞれ与える点\n",
    "\n",
    "def findDistAndPnts(List):\n",
    "    minDist, maxDist = sys.float_info.max, -1.0  #最短と最長の距離の初期値\n",
    "    pointsOfMinDist, pointsOfMaxDist = (-1, -1), (-1, -1)  #最短と最長距離をそれぞれ与える点\n",
    "    n = len(List) #点の数\n",
    "    A = []\n",
    "    D = []\n",
    "    Alist = []\n",
    "    for i in List:\n",
    "      Alist.append(i)\n",
    "  \n",
    "    #すべての点において\n",
    "        #点iから点jまでの距離\n",
    "    for i in Alist:\n",
    "          Alist.remove(i)\n",
    "          for j in Alist:\n",
    "            d = ((i[0] - j[0])**2 + (i[1] - j[1])**2  +(i[2] - j[2])**2)**(1/2)\n",
    "            Ld = [i,j,d]\n",
    "            D.append(d)\n",
    "            A.append(Ld)\n",
    "            \n",
    "        #最短距離の判断\n",
    "    minDist = min(D)\n",
    "    findminpo = []\n",
    "    findmaxpo = []\n",
    "    for k in A:\n",
    "      if k[2] == minDist:\n",
    "        mini = k[0]\n",
    "        minj = k[1]\n",
    "        findminpo.append(mini)\n",
    "        findminpo.append(minj)\n",
    "    pointsOfMinDist = findminpo\n",
    "                \n",
    "        #最長距離の判断\n",
    "    maxDist = max(D)\n",
    "    for k in A:\n",
    "      if k[2] == maxDist:\n",
    "        maxi = k[0]\n",
    "        maxj = k[1]\n",
    "        findmaxpo.append(maxi)\n",
    "        findmaxpo.append(maxj)\n",
    "    pointsOfMaxDist = findmaxpo\n",
    "                \n",
    "                \n",
    "    return minDist, maxDist, pointsOfMinDist, pointsOfMaxDist\n",
    "\n",
    "def VectorCrossProduct (Va, Vb):\n",
    "    VaxVb = [0.0, 0.0, 0.0]\n",
    "    #外積ベクトルの計算\n",
    "    VaxVb[0]=Va[1]*Vb[2] - Va[2]*Vb[1]\n",
    "    VaxVb[1]=Va[2]*Vb[0] - Va[0]*Vb[2]\n",
    "    VaxVb[2]=Va[0]*Vb[1] - Va[1]*Vb[0]\n",
    "    \n",
    "    return VaxVb\n",
    "\n",
    "#最短と最長の長さを持つベクトルを求める\n",
    "x = findDistAndPnts(L)\n",
    "pointmin0 = x[2][0]\n",
    "pointmin1 = x[2][1]\n",
    "\n",
    "pointmax0 = x[3][0]\n",
    "pointmax1 = x[3][1]\n",
    "\n",
    "Va = []\n",
    "Vb = []\n",
    "print(x[0])\n",
    "for i in range(3):\n",
    "  minp = (pointmin0[i] - pointmin1[i])\n",
    "  maxp = (pointmax0[i] - pointmax1[i])\n",
    "  Va.append(minp)\n",
    "  Vb.append(maxp)\n",
    "  #print(minp,maxp)\n",
    "\n",
    "V = VectorCrossProduct(Va,Vb)\n",
    "print(\"最短と最長の長さを持つベクトル\")\n",
    "print (Va, Vb)\n",
    "print(\"ベクトル外積\")\n",
    "print (VectorCrossProduct(Va,Vb))"
   ]
  },
  {
   "cell_type": "code",
   "execution_count": null,
   "metadata": {},
   "outputs": [],
   "source": []
  }
 ],
 "metadata": {
  "kernelspec": {
   "display_name": "Python 3",
   "language": "python",
   "name": "python3"
  },
  "language_info": {
   "codemirror_mode": {
    "name": "ipython",
    "version": 3
   },
   "file_extension": ".py",
   "mimetype": "text/x-python",
   "name": "python",
   "nbconvert_exporter": "python",
   "pygments_lexer": "ipython3",
   "version": "3.10.3"
  },
  "vscode": {
   "interpreter": {
    "hash": "22ffae252b668d926353516783295524e43abf5e0fe319c07f264f844d99fbf2"
   }
  }
 },
 "nbformat": 4,
 "nbformat_minor": 4
}
