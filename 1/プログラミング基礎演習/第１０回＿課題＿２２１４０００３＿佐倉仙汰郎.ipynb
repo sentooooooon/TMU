{
 "cells": [
  {
   "cell_type": "code",
   "execution_count": 2,
   "metadata": {},
   "outputs": [
    {
     "name": "stdout",
     "output_type": "stream",
     "text": [
      "整数に変換できません。\n",
      "invalid literal for int() with base 10: 'ss'\n"
     ]
    }
   ],
   "source": [
    "a = input('何か入力してください')\n",
    "b = 0\n",
    "try:\n",
    "    b = int(a)\n",
    "    print('整数に変換できました。')\n",
    "except Exception as e:\n",
    "    print('整数に変換できません。')\n",
    "    print(e)"
   ]
  },
  {
   "cell_type": "code",
   "execution_count": 34,
   "metadata": {},
   "outputs": [
    {
     "name": "stdout",
     "output_type": "stream",
     "text": [
      "done\n"
     ]
    }
   ],
   "source": [
    "while True:\n",
    "    a = input('なにか入力してください。')\n",
    "    try:\n",
    "        b = float(a)\n",
    "        print(\"done\")\n",
    "        break\n",
    "    except Exception as e:\n",
    "        continue"
   ]
  },
  {
   "cell_type": "code",
   "execution_count": 36,
   "metadata": {},
   "outputs": [
    {
     "name": "stdout",
     "output_type": "stream",
     "text": [
      "1\n",
      "2\n",
      "3\n",
      "4\n",
      "5\n",
      "6\n",
      "7\n",
      "8\n",
      "Exception: can you see me?\n"
     ]
    }
   ],
   "source": [
    "i = 0\n",
    "try:\n",
    "    while True:\n",
    "        if i == 8:\n",
    "            raise Exception('can you see me?')\n",
    "        i = i+1\n",
    "        print(i)\n",
    "    print(\"Procedure\")\n",
    "    print(\"Procedure\")\n",
    "except Exception as e:\n",
    "    print('Exception:', e)"
   ]
  },
  {
   "cell_type": "code",
   "execution_count": 37,
   "metadata": {},
   "outputs": [
    {
     "name": "stdout",
     "output_type": "stream",
     "text": [
      "問題が発生: 偶数でない\n"
     ]
    }
   ],
   "source": [
    "def F(s):\n",
    "    i = int(s)\n",
    "    if i%2 != 0:\n",
    "        raise Exception(\"偶数でない\")\n",
    "\n",
    "try:\n",
    "    s = input('数値を入力')\n",
    "    F(s)\n",
    "    print('OK')\n",
    "except Exception as e:\n",
    "    print('問題が発生:', e)"
   ]
  },
  {
   "cell_type": "code",
   "execution_count": 61,
   "metadata": {},
   "outputs": [],
   "source": [
    "import numpy as np\n",
    "\n",
    "a = []\n",
    "for i in range(10):\n",
    "    r = np.random.randint(0,2)\n",
    "    if r == 0:\n",
    "        r = -1\n",
    "    a.append(r)\n",
    "#print(a)\n",
    "\n",
    "def TestException():\n",
    "    s = 0\n",
    "    for i in range(len(a)):\n",
    "        s = s + a[i]\n",
    "        if abs(s) > 5:\n",
    "                raise Exception(\"理由\")\n",
    "\n",
    "\n",
    "try:\n",
    "    TestException()\n",
    "except Exception as e:\n",
    "    print(e)\n",
    "\n",
    "\n"
   ]
  },
  {
   "cell_type": "code",
   "execution_count": 69,
   "metadata": {},
   "outputs": [
    {
     "name": "stdout",
     "output_type": "stream",
     "text": [
      "[-1, -1, -1, 0, -1, -1, 0, -1, 0, -1]\n",
      "error occured bad operand type for unary +: 'str'\n"
     ]
    }
   ],
   "source": [
    "#先生\n",
    "A=[]\n",
    "import numpy as np\n",
    "\n",
    "for i in range(0,10):\n",
    "    x = np.random.randint(0,2)\n",
    "    y = x*x - 1\n",
    "    A.append(y)\n",
    "\n",
    "def F(L):\n",
    "    x = 0\n",
    "    for k in range(0, len(L)):\n",
    "        x = x + L[k]\n",
    "        if abs(x) > 5:\n",
    "            raise('overflow, x is', + str(x))\n",
    "\n",
    "    return x\n",
    "\n",
    "print(A)\n",
    "try:\n",
    "    F(A)\n",
    "except Exception as e:\n",
    "    print('error occured' , e)"
   ]
  },
  {
   "cell_type": "code",
   "execution_count": 3,
   "metadata": {},
   "outputs": [],
   "source": [
    "import numpy as np\n",
    "N = 100\n",
    "f = open('out.csv','w')\n",
    "f.write(\"x,y\\n\")\n",
    "for i in range(N):\n",
    "    a = np.random.uniform(-1,1)\n",
    "    b = np.random.uniform(-1,1)\n",
    "\n",
    "    U = b/a\n",
    "    A = 1 + (b/a)**2\n",
    "    def F(x):\n",
    "        return x*x*A -1\n",
    "    def Fp(x):\n",
    "        return 2*x*A\n",
    "    x = a\n",
    "    for k in range(5):\n",
    "        x = x - F(x)/Fp(x)\n",
    "    y = U*x\n",
    "    f.write(str(x) + \",\" + str(y) + \"\\n\")\n",
    "\n",
    "f.close()"
   ]
  },
  {
   "attachments": {},
   "cell_type": "markdown",
   "metadata": {},
   "source": [
    "以降課題"
   ]
  },
  {
   "cell_type": "code",
   "execution_count": 51,
   "metadata": {},
   "outputs": [
    {
     "name": "stdout",
     "output_type": "stream",
     "text": [
      "7787\n",
      "7787\n"
     ]
    }
   ],
   "source": [
    "#課題０\n",
    "import mod10th as md\n",
    "import numpy as np\n",
    "import csv\n",
    "\n",
    "f = open(f\"{md.practice0()}\",\"r\")\n",
    "#print(f\"md.practice0()\")\n",
    "F = csv.reader(f)\n",
    "\n",
    "a = []\n",
    "b = []\n",
    "s = 0\n",
    "\n",
    "for row in F:\n",
    "    a.append(row)\n",
    "\n",
    "#print(a[0])\n",
    "#print(a[0].index('y'))\n",
    "for i in a:\n",
    "    b.append(i[a[0].index('y')])\n",
    "b.remove('y')\n",
    "\n",
    "for j in b:\n",
    "    try:\n",
    "        s = s + int(j)\n",
    "    except Exception as e:\n",
    "        j = 1\n",
    "        s = s+ int(j)\n",
    "\n",
    "print(s)\n",
    "print(md.practice0GetAns())"
   ]
  },
  {
   "cell_type": "code",
   "execution_count": 1,
   "metadata": {},
   "outputs": [],
   "source": [
    "#課題１\n",
    "\n",
    "import numpy as np\n",
    "\n",
    "f = open('Newton method.csv', 'w')\n",
    "f.write(\"x,y,,x,y,,x,y\\n\")\n",
    "\n",
    "\n",
    "pi = np.pi\n",
    "h0 = pi/10\n",
    "h1 = pi/100\n",
    "h2 = pi/500\n",
    "t0 = 0\n",
    "t1 = 0\n",
    "t2 = 0\n",
    "x0 = 1\n",
    "y0 = 0\n",
    "x1 = 1\n",
    "y1 = 0\n",
    "x2 = 1\n",
    "y2 = 0\n",
    "while t0 < 2*pi:\n",
    "    x0 = x0 - h0*y0\n",
    "    y0 = y0 + h0*x0\n",
    "    t0 = t0 + h0\n",
    "    f.write(f\"{x0},{y0}\\n\")\n",
    "\n",
    "f.write('x,y\\n')\n",
    "\n",
    "while t1 < 2*pi:\n",
    "    x1 = x1 - h1*y1\n",
    "    y1 = y1 + h1*x1\n",
    "    t1 = t1 + h1\n",
    "    f.write(f\"{x1},{y1}\\n\")\n",
    "\n",
    "f.write('x,y\\n')\n",
    "\n",
    "while t2 < 2*pi:\n",
    "    x2 = x2 - h2*y2\n",
    "    y2 = y2 + h2*x2\n",
    "    t2 = t2 + h2\n",
    "    f.write(f\"{x2},{y2}\\n\")\n",
    "f.close()"
   ]
  }
 ],
 "metadata": {
  "kernelspec": {
   "display_name": "Python 3",
   "language": "python",
   "name": "python3"
  },
  "language_info": {
   "codemirror_mode": {
    "name": "ipython",
    "version": 3
   },
   "file_extension": ".py",
   "mimetype": "text/x-python",
   "name": "python",
   "nbconvert_exporter": "python",
   "pygments_lexer": "ipython3",
   "version": "3.10.3 (tags/v3.10.3:a342a49, Mar 16 2022, 13:07:40) [MSC v.1929 64 bit (AMD64)]"
  },
  "orig_nbformat": 4,
  "vscode": {
   "interpreter": {
    "hash": "22ffae252b668d926353516783295524e43abf5e0fe319c07f264f844d99fbf2"
   }
  }
 },
 "nbformat": 4,
 "nbformat_minor": 2
}
