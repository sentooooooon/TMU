{
 "cells": [
  {
   "cell_type": "code",
   "execution_count": 5,
   "metadata": {},
   "outputs": [
    {
     "name": "stdout",
     "output_type": "stream",
     "text": [
      "Hits: 0\n",
      "Blows: 0\n",
      "Hits: 0\n",
      "Blows: 1\n",
      "Hits: 1\n",
      "Blows: 0\n",
      "Hits: 2\n",
      "Blows: 0\n",
      "Hits: 1\n",
      "Blows: 1\n",
      "The answer is 598\n"
     ]
    }
   ],
   "source": [
    "import random\n",
    "\n",
    "ans = str(random.randint(1000, 9999))\n",
    "#4桁のヒットアンドブロー\n",
    "def HnB4():\n",
    "    #答えの生成\n",
    "    ans = str(random.randint(1000, 9999))\n",
    "    #あてるまで無限ループ\n",
    "    while True:\n",
    "        #変数の準備\n",
    "        X = input(\"四桁の数字を入力\")\n",
    "        hit = 0\n",
    "        blow = 0\n",
    "\n",
    "        for i in range(4):\n",
    "            #桁数が同じものがあっていたら、ヒットを＋１する。\n",
    "            if X[i] == ans[i]:\n",
    "                hit += 1\n",
    "            #その他で、数字がかぶっているものがあれば、ブローに＋１\n",
    "            elif X[i] in ans:\n",
    "                blow += 1\n",
    "        #終了時の条件\n",
    "        if hit == 4:\n",
    "            print(f\"The answer is {ans}\")\n",
    "            break\n",
    "        #ans !=  X の時はヒットとブローの表示\n",
    "        else:\n",
    "            print(\"Hits:\", hit)\n",
    "            print(\"Blows:\", blow)\n",
    "\n",
    "#三桁の場合のhit and blow. 内容は全くおなじ。\n",
    "def HnB3():\n",
    "    ans = str(random.randint(100, 999))\n",
    "    while True:\n",
    "        X = input(\"3桁の数字を入力\")\n",
    "        hit = 0\n",
    "        blow = 0\n",
    "\n",
    "        for i in range(3):\n",
    "            if X[i] == ans[i]:\n",
    "                hit += 1\n",
    "            elif X[i] in ans:\n",
    "                blow += 1\n",
    "        \n",
    "        if hit == 3:\n",
    "            print(f\"The answer is {ans}\")\n",
    "            break\n",
    "        else:\n",
    "            print(\"Hits:\", hit)\n",
    "            print(\"Blows:\", blow)\n",
    "\n",
    "HnB3()"
   ]
  },
  {
   "cell_type": "code",
   "execution_count": 8,
   "metadata": {},
   "outputs": [
    {
     "name": "stdout",
     "output_type": "stream",
     "text": [
      "1\n"
     ]
    }
   ],
   "source": []
  }
 ],
 "metadata": {
  "kernelspec": {
   "display_name": "Python 3",
   "language": "python",
   "name": "python3"
  },
  "language_info": {
   "codemirror_mode": {
    "name": "ipython",
    "version": 3
   },
   "file_extension": ".py",
   "mimetype": "text/x-python",
   "name": "python",
   "nbconvert_exporter": "python",
   "pygments_lexer": "ipython3",
   "version": "3.10.3"
  },
  "orig_nbformat": 4,
  "vscode": {
   "interpreter": {
    "hash": "22ffae252b668d926353516783295524e43abf5e0fe319c07f264f844d99fbf2"
   }
  }
 },
 "nbformat": 4,
 "nbformat_minor": 2
}
